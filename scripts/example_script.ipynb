{
 "cells": [
  {
   "cell_type": "code",
   "execution_count": null,
   "metadata": {},
   "outputs": [],
   "source": [
    "import numpy as np\n",
    "import matplotlib.pyplot as plt\n",
    "\n",
    "# Generate more realistic dummy dataset\n",
    "np.random.seed(0)\n",
    "\n",
    "# Generate age data based on US population distribution (source: US Census Bureau)\n",
    "ages = np.random.normal(loc=38, scale=18, size=1000)\n",
    "\n",
    "# Generate BMI data based on CDC's National Health and Nutrition Examination Survey (NHANES) data\n",
    "# Adult BMI distribution (source: CDC)\n",
    "bmi_mean = 29.0\n",
    "bmi_std = 7.8\n",
    "bmi = np.random.normal(loc=bmi_mean, scale=bmi_std, size=1000)\n",
    "\n",
    "# Generate systolic blood pressure (SBP) data based on typical ranges (source: CDC)\n",
    "# SBP values in mmHg\n",
    "sbp_mean = 120\n",
    "sbp_std = 15\n",
    "sbp = np.random.normal(loc=sbp_mean, scale=sbp_std, size=1000)\n",
    "\n",
    "# Plotting\n",
    "plt.figure(figsize=(12, 4))\n",
    "\n",
    "# Histogram for Age\n",
    "plt.subplot(1, 3, 1)\n",
    "plt.hist(ages, bins=30, color='skyblue', edgecolor='black')\n",
    "plt.title('Distribution of Age')\n",
    "plt.xlabel('Age')\n",
    "plt.ylabel('Frequency')\n",
    "\n",
    "# Histogram for BMI\n",
    "plt.subplot(1, 3, 2)\n",
    "plt.hist(bmi, bins=30, color='salmon', edgecolor='black')\n",
    "plt.title('Distribution of BMI')\n",
    "plt.xlabel('BMI')\n",
    "plt.ylabel('Frequency')\n",
    "\n",
    "# Histogram for Systolic Blood Pressure (SBP)\n",
    "plt.subplot(1, 3, 3)\n",
    "plt.hist(sbp, bins=30, color='green', edgecolor='black')\n",
    "plt.title('Distribution of Systolic Blood Pressure (SBP)')\n",
    "plt.xlabel('SBP (mmHg)')\n",
    "plt.ylabel('Frequency')\n",
    "\n",
    "plt.tight_layout()\n",
    "plt.show()\n"
   ]
  }
 ],
 "metadata": {
  "kernelspec": {
   "display_name": "Python 3",
   "language": "python",
   "name": "python3"
  },
  "language_info": {
   "codemirror_mode": {
    "name": "ipython",
    "version": 3
   },
   "file_extension": ".py",
   "mimetype": "text/x-python",
   "name": "python",
   "nbconvert_exporter": "python",
   "pygments_lexer": "ipython3",
   "version": "3.10.8"
  }
 },
 "nbformat": 4,
 "nbformat_minor": 2
}
